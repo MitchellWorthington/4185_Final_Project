{
 "cells": [
  {
   "attachments": {},
   "cell_type": "markdown",
   "metadata": {},
   "source": [
    "## Import libraries"
   ]
  },
  {
   "cell_type": "code",
   "execution_count": 2,
   "metadata": {},
   "outputs": [],
   "source": [
    "# current draft of data\n",
    "import requests\n",
    "from bs4 import BeautifulSoup as bs\n",
    "import pandas as pd\n",
    "import numpy as np\n",
    "import matplotlib.pyplot as plt"
   ]
  },
  {
   "attachments": {},
   "cell_type": "markdown",
   "metadata": {},
   "source": [
    "## Obtaining the Data"
   ]
  },
  {
   "cell_type": "code",
   "execution_count": 3,
   "metadata": {},
   "outputs": [],
   "source": [
    "link = \"https://steam250.com/20\"\n",
    "\n",
    "title = []\n",
    "price = []\n",
    "score = []\n",
    "num_votes = []\n",
    "genre = []\n",
    "year = []\n",
    "\n",
    "def func(element):\n",
    "  return element.string\n",
    "\n",
    "for i in range(13, 23):\n",
    "    url = link + str(i)\n",
    "    page = requests.get(url)\n",
    "    # print(page.status_code)\n",
    "    soup = bs(page.content, \"html.parser\")\n",
    "\n",
    "    title_i = list(map(func, soup.select(\"div.appline > span.title > a\"))) # v.col1.main.ranking div#\\31 div.appline span.title a\n",
    "    price_i = list(map(func, soup.select(\"div.appline > span.price, a.free\")))\n",
    "    score_i = list(map(func, soup.select(\"div:nth-child(3) > span.score\")))\n",
    "    num_votes_i = list(map(func, soup.select(\"div:nth-child(3) > span.votes\")))\n",
    "    genre_i = list(map(func, soup.select(\"div.appline > a.genre\")))\n",
    "\n",
    "    for j in range(0, 150):\n",
    "        title.append(title_i[j])\n",
    "        price.append(price_i[j])\n",
    "        score.append(score_i[j])\n",
    "        num_votes.append(num_votes_i[j])\n",
    "        genre.append(genre_i[j])\n",
    "        year.append(\"20\" + str(i))"
   ]
  },
  {
   "cell_type": "code",
   "execution_count": 4,
   "metadata": {},
   "outputs": [],
   "source": [
    "data = {\n",
    "    \"Year of Release\" : year, \n",
    "    \"Game Title\" : title,\n",
    "    \"Game Price\" : price,\n",
    "    \"Score\" : score,\n",
    "    \"Votes\" : num_votes,\n",
    "    \"Genre\" : genre,\n",
    "}\n",
    "\n",
    "df = pd.DataFrame(data=data)"
   ]
  },
  {
   "cell_type": "code",
   "execution_count": 5,
   "metadata": {},
   "outputs": [
    {
     "data": {
      "text/html": [
       "<div>\n",
       "<style scoped>\n",
       "    .dataframe tbody tr th:only-of-type {\n",
       "        vertical-align: middle;\n",
       "    }\n",
       "\n",
       "    .dataframe tbody tr th {\n",
       "        vertical-align: top;\n",
       "    }\n",
       "\n",
       "    .dataframe thead th {\n",
       "        text-align: right;\n",
       "    }\n",
       "</style>\n",
       "<table border=\"1\" class=\"dataframe\">\n",
       "  <thead>\n",
       "    <tr style=\"text-align: right;\">\n",
       "      <th></th>\n",
       "      <th>Year of Release</th>\n",
       "      <th>Game Title</th>\n",
       "      <th>Game Price</th>\n",
       "      <th>Score</th>\n",
       "      <th>Votes</th>\n",
       "      <th>Genre</th>\n",
       "    </tr>\n",
       "  </thead>\n",
       "  <tbody>\n",
       "    <tr>\n",
       "      <th>0</th>\n",
       "      <td>2013</td>\n",
       "      <td>Tomb Raider</td>\n",
       "      <td>$14.99</td>\n",
       "      <td>8.61</td>\n",
       "      <td>221,058 votes</td>\n",
       "      <td>Adventure</td>\n",
       "    </tr>\n",
       "    <tr>\n",
       "      <th>1</th>\n",
       "      <td>2013</td>\n",
       "      <td>Don't Starve</td>\n",
       "      <td>$9.99</td>\n",
       "      <td>8.60</td>\n",
       "      <td>100,989 votes</td>\n",
       "      <td>Survival</td>\n",
       "    </tr>\n",
       "    <tr>\n",
       "      <th>2</th>\n",
       "      <td>2013</td>\n",
       "      <td>Papers, Please</td>\n",
       "      <td>$9.99</td>\n",
       "      <td>8.58</td>\n",
       "      <td>59,157 votes</td>\n",
       "      <td>Political</td>\n",
       "    </tr>\n",
       "    <tr>\n",
       "      <th>3</th>\n",
       "      <td>2013</td>\n",
       "      <td>The Wolf Among Us</td>\n",
       "      <td>$14.99</td>\n",
       "      <td>8.58</td>\n",
       "      <td>30,121 votes</td>\n",
       "      <td>Adventure</td>\n",
       "    </tr>\n",
       "    <tr>\n",
       "      <th>4</th>\n",
       "      <td>2013</td>\n",
       "      <td>Outlast</td>\n",
       "      <td>$19.99</td>\n",
       "      <td>8.57</td>\n",
       "      <td>99,996 votes</td>\n",
       "      <td>Horror</td>\n",
       "    </tr>\n",
       "    <tr>\n",
       "      <th>5</th>\n",
       "      <td>2013</td>\n",
       "      <td>Age of Empires II (2013)</td>\n",
       "      <td>$19.99</td>\n",
       "      <td>8.51</td>\n",
       "      <td>97,030 votes</td>\n",
       "      <td>Strategy</td>\n",
       "    </tr>\n",
       "    <tr>\n",
       "      <th>6</th>\n",
       "      <td>2013</td>\n",
       "      <td>Gunpoint</td>\n",
       "      <td>$9.99</td>\n",
       "      <td>8.48</td>\n",
       "      <td>12,325 votes</td>\n",
       "      <td>Stealth</td>\n",
       "    </tr>\n",
       "    <tr>\n",
       "      <th>7</th>\n",
       "      <td>2013</td>\n",
       "      <td>The Walking Dead: Season Two</td>\n",
       "      <td>$14.99</td>\n",
       "      <td>8.45</td>\n",
       "      <td>27,194 votes</td>\n",
       "      <td>Zombies</td>\n",
       "    </tr>\n",
       "    <tr>\n",
       "      <th>8</th>\n",
       "      <td>2013</td>\n",
       "      <td>Game Dev Tycoon</td>\n",
       "      <td>$9.99</td>\n",
       "      <td>8.43</td>\n",
       "      <td>40,090 votes</td>\n",
       "      <td>Management</td>\n",
       "    </tr>\n",
       "    <tr>\n",
       "      <th>9</th>\n",
       "      <td>2013</td>\n",
       "      <td>BioShock Infinite</td>\n",
       "      <td>$7.49</td>\n",
       "      <td>8.39</td>\n",
       "      <td>131,282 votes</td>\n",
       "      <td>FPS</td>\n",
       "    </tr>\n",
       "  </tbody>\n",
       "</table>\n",
       "</div>"
      ],
      "text/plain": [
       "  Year of Release                    Game Title Game Price Score  \\\n",
       "0            2013                   Tomb Raider     $14.99  8.61   \n",
       "1            2013                  Don't Starve      $9.99  8.60   \n",
       "2            2013                Papers, Please      $9.99  8.58   \n",
       "3            2013             The Wolf Among Us     $14.99  8.58   \n",
       "4            2013                       Outlast     $19.99  8.57   \n",
       "5            2013      Age of Empires II (2013)     $19.99  8.51   \n",
       "6            2013                      Gunpoint      $9.99  8.48   \n",
       "7            2013  The Walking Dead: Season Two     $14.99  8.45   \n",
       "8            2013               Game Dev Tycoon      $9.99  8.43   \n",
       "9            2013             BioShock Infinite      $7.49  8.39   \n",
       "\n",
       "           Votes       Genre  \n",
       "0  221,058 votes   Adventure  \n",
       "1  100,989 votes    Survival  \n",
       "2   59,157 votes   Political  \n",
       "3   30,121 votes   Adventure  \n",
       "4   99,996 votes      Horror  \n",
       "5   97,030 votes    Strategy  \n",
       "6   12,325 votes     Stealth  \n",
       "7   27,194 votes     Zombies  \n",
       "8   40,090 votes  Management  \n",
       "9  131,282 votes         FPS  "
      ]
     },
     "execution_count": 5,
     "metadata": {},
     "output_type": "execute_result"
    }
   ],
   "source": [
    "df.head(10)"
   ]
  },
  {
   "attachments": {},
   "cell_type": "markdown",
   "metadata": {},
   "source": [
    "## Cleaning the Data"
   ]
  },
  {
   "cell_type": "code",
   "execution_count": 6,
   "metadata": {},
   "outputs": [
    {
     "data": {
      "text/plain": [
       "(1500, 6)"
      ]
     },
     "execution_count": 6,
     "metadata": {},
     "output_type": "execute_result"
    }
   ],
   "source": [
    "df.shape"
   ]
  },
  {
   "cell_type": "code",
   "execution_count": 7,
   "metadata": {},
   "outputs": [
    {
     "data": {
      "text/plain": [
       "Year of Release    object\n",
       "Game Title         object\n",
       "Game Price         object\n",
       "Score              object\n",
       "Votes              object\n",
       "Genre              object\n",
       "dtype: object"
      ]
     },
     "execution_count": 7,
     "metadata": {},
     "output_type": "execute_result"
    }
   ],
   "source": [
    "df.dtypes"
   ]
  },
  {
   "cell_type": "code",
   "execution_count": 8,
   "metadata": {},
   "outputs": [
    {
     "data": {
      "text/plain": [
       "Year of Release    0\n",
       "Game Title         0\n",
       "Game Price         0\n",
       "Score              0\n",
       "Votes              0\n",
       "Genre              0\n",
       "dtype: int64"
      ]
     },
     "execution_count": 8,
     "metadata": {},
     "output_type": "execute_result"
    }
   ],
   "source": [
    "# thank goodness\n",
    "df.isnull().sum()"
   ]
  },
  {
   "cell_type": "code",
   "execution_count": 9,
   "metadata": {},
   "outputs": [],
   "source": [
    "df[[\"Votes\", \"year\"]] = df[\"Votes\"].str.split(' ', expand=True)"
   ]
  },
  {
   "cell_type": "code",
   "execution_count": 10,
   "metadata": {},
   "outputs": [],
   "source": [
    "#df.head(2)"
   ]
  },
  {
   "cell_type": "code",
   "execution_count": 11,
   "metadata": {},
   "outputs": [],
   "source": [
    "df.drop(['year'], axis=1, inplace=True)"
   ]
  },
  {
   "cell_type": "code",
   "execution_count": 12,
   "metadata": {},
   "outputs": [
    {
     "data": {
      "text/html": [
       "<div>\n",
       "<style scoped>\n",
       "    .dataframe tbody tr th:only-of-type {\n",
       "        vertical-align: middle;\n",
       "    }\n",
       "\n",
       "    .dataframe tbody tr th {\n",
       "        vertical-align: top;\n",
       "    }\n",
       "\n",
       "    .dataframe thead th {\n",
       "        text-align: right;\n",
       "    }\n",
       "</style>\n",
       "<table border=\"1\" class=\"dataframe\">\n",
       "  <thead>\n",
       "    <tr style=\"text-align: right;\">\n",
       "      <th></th>\n",
       "      <th>Year of Release</th>\n",
       "      <th>Game Title</th>\n",
       "      <th>Game Price</th>\n",
       "      <th>Score</th>\n",
       "      <th>Votes</th>\n",
       "      <th>Genre</th>\n",
       "    </tr>\n",
       "  </thead>\n",
       "  <tbody>\n",
       "    <tr>\n",
       "      <th>0</th>\n",
       "      <td>2013</td>\n",
       "      <td>Tomb Raider</td>\n",
       "      <td>$14.99</td>\n",
       "      <td>8.61</td>\n",
       "      <td>221,058</td>\n",
       "      <td>Adventure</td>\n",
       "    </tr>\n",
       "    <tr>\n",
       "      <th>1</th>\n",
       "      <td>2013</td>\n",
       "      <td>Don't Starve</td>\n",
       "      <td>$9.99</td>\n",
       "      <td>8.60</td>\n",
       "      <td>100,989</td>\n",
       "      <td>Survival</td>\n",
       "    </tr>\n",
       "  </tbody>\n",
       "</table>\n",
       "</div>"
      ],
      "text/plain": [
       "  Year of Release    Game Title Game Price Score    Votes      Genre\n",
       "0            2013   Tomb Raider     $14.99  8.61  221,058  Adventure\n",
       "1            2013  Don't Starve      $9.99  8.60  100,989   Survival"
      ]
     },
     "execution_count": 12,
     "metadata": {},
     "output_type": "execute_result"
    }
   ],
   "source": [
    "df.head(2)"
   ]
  },
  {
   "cell_type": "code",
   "execution_count": 13,
   "metadata": {},
   "outputs": [
    {
     "name": "stderr",
     "output_type": "stream",
     "text": [
      "C:\\Users\\mitch\\AppData\\Local\\Temp\\ipykernel_7532\\1601834454.py:2: FutureWarning: The default value of regex will change from True to False in a future version. In addition, single character regular expressions will *not* be treated as literal strings when regex=True.\n",
      "  df[\"Game Price\"] = df[\"Game Price\"].str.replace('$', '')\n"
     ]
    }
   ],
   "source": [
    "df[\"Votes\"] = df[\"Votes\"].str.replace(',', '')\n",
    "df[\"Game Price\"] = df[\"Game Price\"].str.replace('$', '')"
   ]
  },
  {
   "cell_type": "code",
   "execution_count": 14,
   "metadata": {},
   "outputs": [
    {
     "data": {
      "text/html": [
       "<div>\n",
       "<style scoped>\n",
       "    .dataframe tbody tr th:only-of-type {\n",
       "        vertical-align: middle;\n",
       "    }\n",
       "\n",
       "    .dataframe tbody tr th {\n",
       "        vertical-align: top;\n",
       "    }\n",
       "\n",
       "    .dataframe thead th {\n",
       "        text-align: right;\n",
       "    }\n",
       "</style>\n",
       "<table border=\"1\" class=\"dataframe\">\n",
       "  <thead>\n",
       "    <tr style=\"text-align: right;\">\n",
       "      <th></th>\n",
       "      <th>Year of Release</th>\n",
       "      <th>Game Title</th>\n",
       "      <th>Game Price</th>\n",
       "      <th>Score</th>\n",
       "      <th>Votes</th>\n",
       "      <th>Genre</th>\n",
       "    </tr>\n",
       "  </thead>\n",
       "  <tbody>\n",
       "    <tr>\n",
       "      <th>0</th>\n",
       "      <td>2013</td>\n",
       "      <td>Tomb Raider</td>\n",
       "      <td>14.99</td>\n",
       "      <td>8.61</td>\n",
       "      <td>221058</td>\n",
       "      <td>Adventure</td>\n",
       "    </tr>\n",
       "    <tr>\n",
       "      <th>1</th>\n",
       "      <td>2013</td>\n",
       "      <td>Don't Starve</td>\n",
       "      <td>9.99</td>\n",
       "      <td>8.60</td>\n",
       "      <td>100989</td>\n",
       "      <td>Survival</td>\n",
       "    </tr>\n",
       "  </tbody>\n",
       "</table>\n",
       "</div>"
      ],
      "text/plain": [
       "  Year of Release    Game Title Game Price Score   Votes      Genre\n",
       "0            2013   Tomb Raider      14.99  8.61  221058  Adventure\n",
       "1            2013  Don't Starve       9.99  8.60  100989   Survival"
      ]
     },
     "execution_count": 14,
     "metadata": {},
     "output_type": "execute_result"
    }
   ],
   "source": [
    "# not sure what that warning above means but it works\n",
    "\n",
    "df.head(2)"
   ]
  },
  {
   "cell_type": "code",
   "execution_count": 15,
   "metadata": {},
   "outputs": [],
   "source": [
    "# df.dtypes\n"
   ]
  },
  {
   "cell_type": "code",
   "execution_count": 16,
   "metadata": {},
   "outputs": [],
   "source": [
    "df[\"Score\"] = df[\"Score\"].astype('float64')\n",
    "df[\"Votes\"] = df[\"Votes\"].astype('int64')"
   ]
  },
  {
   "cell_type": "code",
   "execution_count": 17,
   "metadata": {},
   "outputs": [
    {
     "name": "stderr",
     "output_type": "stream",
     "text": [
      "C:\\Users\\mitch\\AppData\\Local\\Temp\\ipykernel_7532\\2853826804.py:6: SettingWithCopyWarning: \n",
      "A value is trying to be set on a copy of a slice from a DataFrame\n",
      "\n",
      "See the caveats in the documentation: https://pandas.pydata.org/pandas-docs/stable/user_guide/indexing.html#returning-a-view-versus-a-copy\n",
      "  df[\"Game Price\"][i] = \"0.00\"\n"
     ]
    }
   ],
   "source": [
    "# df[\"Game Price\"] = df[\"Game Price\"].astype('float64')\n",
    "for i in range(1500):\n",
    "    if df[\"Game Price\"][i] == \"free\":\n",
    "        df[\"Game Price\"][i] = \"0.00\"\n",
    "    elif df[\"Game Price\"][i] == \"Free\":\n",
    "        df[\"Game Price\"][i] = \"0.00\""
   ]
  },
  {
   "cell_type": "code",
   "execution_count": 18,
   "metadata": {},
   "outputs": [],
   "source": [
    "df[\"Game Price\"] = df[\"Game Price\"].astype('float64')"
   ]
  },
  {
   "cell_type": "code",
   "execution_count": 19,
   "metadata": {},
   "outputs": [],
   "source": [
    "df[\"Game Title\"] = df[\"Game Title\"].astype('string')\n",
    "df[\"Genre\"] = df[\"Genre\"].astype('string')\n",
    "df[\"Year of Release\"] = df[\"Year of Release\"].astype('int64')"
   ]
  },
  {
   "cell_type": "code",
   "execution_count": 20,
   "metadata": {},
   "outputs": [
    {
     "data": {
      "text/plain": [
       "Year of Release      int64\n",
       "Game Title          string\n",
       "Game Price         float64\n",
       "Score              float64\n",
       "Votes                int64\n",
       "Genre               string\n",
       "dtype: object"
      ]
     },
     "execution_count": 20,
     "metadata": {},
     "output_type": "execute_result"
    }
   ],
   "source": [
    "df.dtypes"
   ]
  },
  {
   "cell_type": "code",
   "execution_count": 21,
   "metadata": {},
   "outputs": [
    {
     "data": {
      "text/html": [
       "<div>\n",
       "<style scoped>\n",
       "    .dataframe tbody tr th:only-of-type {\n",
       "        vertical-align: middle;\n",
       "    }\n",
       "\n",
       "    .dataframe tbody tr th {\n",
       "        vertical-align: top;\n",
       "    }\n",
       "\n",
       "    .dataframe thead th {\n",
       "        text-align: right;\n",
       "    }\n",
       "</style>\n",
       "<table border=\"1\" class=\"dataframe\">\n",
       "  <thead>\n",
       "    <tr style=\"text-align: right;\">\n",
       "      <th></th>\n",
       "      <th>Year of Release</th>\n",
       "      <th>Game Title</th>\n",
       "      <th>Game Price</th>\n",
       "      <th>Score</th>\n",
       "      <th>Votes</th>\n",
       "      <th>Genre</th>\n",
       "    </tr>\n",
       "  </thead>\n",
       "  <tbody>\n",
       "    <tr>\n",
       "      <th>0</th>\n",
       "      <td>2013</td>\n",
       "      <td>Tomb Raider</td>\n",
       "      <td>14.99</td>\n",
       "      <td>8.61</td>\n",
       "      <td>221058</td>\n",
       "      <td>Adventure</td>\n",
       "    </tr>\n",
       "    <tr>\n",
       "      <th>1</th>\n",
       "      <td>2013</td>\n",
       "      <td>Don't Starve</td>\n",
       "      <td>9.99</td>\n",
       "      <td>8.60</td>\n",
       "      <td>100989</td>\n",
       "      <td>Survival</td>\n",
       "    </tr>\n",
       "    <tr>\n",
       "      <th>2</th>\n",
       "      <td>2013</td>\n",
       "      <td>Papers, Please</td>\n",
       "      <td>9.99</td>\n",
       "      <td>8.58</td>\n",
       "      <td>59157</td>\n",
       "      <td>Political</td>\n",
       "    </tr>\n",
       "    <tr>\n",
       "      <th>3</th>\n",
       "      <td>2013</td>\n",
       "      <td>The Wolf Among Us</td>\n",
       "      <td>14.99</td>\n",
       "      <td>8.58</td>\n",
       "      <td>30121</td>\n",
       "      <td>Adventure</td>\n",
       "    </tr>\n",
       "    <tr>\n",
       "      <th>4</th>\n",
       "      <td>2013</td>\n",
       "      <td>Outlast</td>\n",
       "      <td>19.99</td>\n",
       "      <td>8.57</td>\n",
       "      <td>99996</td>\n",
       "      <td>Horror</td>\n",
       "    </tr>\n",
       "  </tbody>\n",
       "</table>\n",
       "</div>"
      ],
      "text/plain": [
       "   Year of Release         Game Title  Game Price  Score   Votes      Genre\n",
       "0             2013        Tomb Raider       14.99   8.61  221058  Adventure\n",
       "1             2013       Don't Starve        9.99   8.60  100989   Survival\n",
       "2             2013     Papers, Please        9.99   8.58   59157  Political\n",
       "3             2013  The Wolf Among Us       14.99   8.58   30121  Adventure\n",
       "4             2013            Outlast       19.99   8.57   99996     Horror"
      ]
     },
     "execution_count": 21,
     "metadata": {},
     "output_type": "execute_result"
    }
   ],
   "source": [
    "df.head()"
   ]
  },
  {
   "cell_type": "code",
   "execution_count": 30,
   "metadata": {},
   "outputs": [
    {
     "data": {
      "text/plain": [
       "Year of Release      10\n",
       "Game Title         1500\n",
       "Game Price           74\n",
       "Score               128\n",
       "Votes              1424\n",
       "Genre               204\n",
       "dtype: int64"
      ]
     },
     "execution_count": 30,
     "metadata": {},
     "output_type": "execute_result"
    }
   ],
   "source": [
    "# there are way too many different genres to analyze\n",
    "# must condense\n",
    "df.nunique()"
   ]
  },
  {
   "cell_type": "code",
   "execution_count": 31,
   "metadata": {},
   "outputs": [
    {
     "name": "stdout",
     "output_type": "stream",
     "text": [
      "<class 'pandas.core.series.Series'> \n",
      "\n",
      "Adventure       111\n",
      "Action           96\n",
      "Casual           76\n",
      "Visual Novel     76\n",
      "Puzzle           76\n",
      "RPG              62\n",
      "Horror           52\n",
      "Dating Sim       44\n",
      "Simulation       39\n",
      "Strategy         38\n",
      "Name: Genre, dtype: Int64\n"
     ]
    }
   ],
   "source": [
    "# find most repeated genres\n",
    "item_counts = df[\"Genre\"].value_counts()\n",
    "\n",
    "print(type(item_counts), '\\n')\n",
    "print(item_counts[:10])\n"
   ]
  },
  {
   "cell_type": "code",
   "execution_count": 32,
   "metadata": {},
   "outputs": [],
   "source": [
    "# my pick for top 10 is:\n",
    "    # action/adventure, puzzle, rpg, casual, artistic, platformer, horror, strategy, simulation, fps\n",
    "    # however, due to time constrants, I'm going to leave them as is and hope nothing bad happens\n",
    "    # I will only change the potentially iffy ones\n",
    "\n",
    "for i in range(1500):\n",
    "    if (df[\"Genre\"][i] in {\"Sexual Content\"}):\n",
    "        df[\"Genre\"][i] = \"Dating Sim\"\n",
    "    if (df[\"Genre\"][i] in {\"Hentai\"}):\n",
    "        df[\"Genre\"][i] = \"Anime\"\n",
    "    if (df[\"Genre\"][i] in {\"LGBTQ+\"}):\n",
    "        df[\"Genre\"][i] = \"Story Rich\"   "
   ]
  }
 ],
 "metadata": {
  "kernelspec": {
   "display_name": "base",
   "language": "python",
   "name": "python3"
  },
  "language_info": {
   "codemirror_mode": {
    "name": "ipython",
    "version": 3
   },
   "file_extension": ".py",
   "mimetype": "text/x-python",
   "name": "python",
   "nbconvert_exporter": "python",
   "pygments_lexer": "ipython3",
   "version": "3.9.13"
  },
  "orig_nbformat": 4
 },
 "nbformat": 4,
 "nbformat_minor": 2
}
