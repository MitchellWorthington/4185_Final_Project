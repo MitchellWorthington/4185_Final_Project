{
 "cells": [
  {
   "attachments": {},
   "cell_type": "markdown",
   "metadata": {},
   "source": [
    "## Import libraries"
   ]
  },
  {
   "cell_type": "code",
   "execution_count": 49,
   "metadata": {},
   "outputs": [],
   "source": [
    "# current draft of data\n",
    "import requests\n",
    "from bs4 import BeautifulSoup as bs\n",
    "import pandas as pd\n",
    "import numpy as np\n",
    "import matplotlib.pyplot as plt\n",
    "import seaborn as sns"
   ]
  },
  {
   "attachments": {},
   "cell_type": "markdown",
   "metadata": {},
   "source": [
    "## Obtaining the Data"
   ]
  },
  {
   "cell_type": "code",
   "execution_count": 3,
   "metadata": {},
   "outputs": [],
   "source": [
    "link = \"https://steam250.com/20\"\n",
    "\n",
    "title = []\n",
    "price = []\n",
    "score = []\n",
    "num_votes = []\n",
    "genre = []\n",
    "year = []\n",
    "\n",
    "def func(element):\n",
    "  return element.string\n",
    "\n",
    "for i in range(13, 23):\n",
    "    url = link + str(i)\n",
    "    page = requests.get(url)\n",
    "    # print(page.status_code)\n",
    "    soup = bs(page.content, \"html.parser\")\n",
    "\n",
    "    title_i = list(map(func, soup.select(\"div.appline > span.title > a\"))) # v.col1.main.ranking div#\\31 div.appline span.title a\n",
    "    price_i = list(map(func, soup.select(\"div.appline > span.price, a.free\")))\n",
    "    score_i = list(map(func, soup.select(\"div:nth-child(3) > span.score\")))\n",
    "    num_votes_i = list(map(func, soup.select(\"div:nth-child(3) > span.votes\")))\n",
    "    genre_i = list(map(func, soup.select(\"div.appline > a.genre\")))\n",
    "\n",
    "    for j in range(0, 150):\n",
    "        title.append(title_i[j])\n",
    "        price.append(price_i[j])\n",
    "        score.append(score_i[j])\n",
    "        num_votes.append(num_votes_i[j])\n",
    "        genre.append(genre_i[j])\n",
    "        year.append(\"20\" + str(i))"
   ]
  },
  {
   "cell_type": "code",
   "execution_count": 4,
   "metadata": {},
   "outputs": [],
   "source": [
    "data = {\n",
    "    \"Year of Release\" : year, \n",
    "    \"Game Title\" : title,\n",
    "    \"Game Price\" : price,\n",
    "    \"Score\" : score,\n",
    "    \"Votes\" : num_votes,\n",
    "    \"Genre\" : genre,\n",
    "}\n",
    "\n",
    "df = pd.DataFrame(data=data)"
   ]
  },
  {
   "cell_type": "code",
   "execution_count": 5,
   "metadata": {},
   "outputs": [
    {
     "data": {
      "text/html": [
       "<div>\n",
       "<style scoped>\n",
       "    .dataframe tbody tr th:only-of-type {\n",
       "        vertical-align: middle;\n",
       "    }\n",
       "\n",
       "    .dataframe tbody tr th {\n",
       "        vertical-align: top;\n",
       "    }\n",
       "\n",
       "    .dataframe thead th {\n",
       "        text-align: right;\n",
       "    }\n",
       "</style>\n",
       "<table border=\"1\" class=\"dataframe\">\n",
       "  <thead>\n",
       "    <tr style=\"text-align: right;\">\n",
       "      <th></th>\n",
       "      <th>Year of Release</th>\n",
       "      <th>Game Title</th>\n",
       "      <th>Game Price</th>\n",
       "      <th>Score</th>\n",
       "      <th>Votes</th>\n",
       "      <th>Genre</th>\n",
       "    </tr>\n",
       "  </thead>\n",
       "  <tbody>\n",
       "    <tr>\n",
       "      <th>0</th>\n",
       "      <td>2013</td>\n",
       "      <td>Tomb Raider</td>\n",
       "      <td>$14.99</td>\n",
       "      <td>8.61</td>\n",
       "      <td>221,116 votes</td>\n",
       "      <td>Adventure</td>\n",
       "    </tr>\n",
       "    <tr>\n",
       "      <th>1</th>\n",
       "      <td>2013</td>\n",
       "      <td>Don't Starve</td>\n",
       "      <td>$9.99</td>\n",
       "      <td>8.60</td>\n",
       "      <td>101,024 votes</td>\n",
       "      <td>Survival</td>\n",
       "    </tr>\n",
       "    <tr>\n",
       "      <th>2</th>\n",
       "      <td>2013</td>\n",
       "      <td>Papers, Please</td>\n",
       "      <td>$9.99</td>\n",
       "      <td>8.58</td>\n",
       "      <td>59,242 votes</td>\n",
       "      <td>Political</td>\n",
       "    </tr>\n",
       "    <tr>\n",
       "      <th>3</th>\n",
       "      <td>2013</td>\n",
       "      <td>The Wolf Among Us</td>\n",
       "      <td>$14.99</td>\n",
       "      <td>8.58</td>\n",
       "      <td>30,144 votes</td>\n",
       "      <td>Adventure</td>\n",
       "    </tr>\n",
       "    <tr>\n",
       "      <th>4</th>\n",
       "      <td>2013</td>\n",
       "      <td>Outlast</td>\n",
       "      <td>$19.99</td>\n",
       "      <td>8.57</td>\n",
       "      <td>100,083 votes</td>\n",
       "      <td>Horror</td>\n",
       "    </tr>\n",
       "    <tr>\n",
       "      <th>5</th>\n",
       "      <td>2013</td>\n",
       "      <td>Age of Empires II (2013)</td>\n",
       "      <td>$19.99</td>\n",
       "      <td>8.51</td>\n",
       "      <td>97,058 votes</td>\n",
       "      <td>Strategy</td>\n",
       "    </tr>\n",
       "    <tr>\n",
       "      <th>6</th>\n",
       "      <td>2013</td>\n",
       "      <td>Gunpoint</td>\n",
       "      <td>$9.99</td>\n",
       "      <td>8.48</td>\n",
       "      <td>12,329 votes</td>\n",
       "      <td>Stealth</td>\n",
       "    </tr>\n",
       "    <tr>\n",
       "      <th>7</th>\n",
       "      <td>2013</td>\n",
       "      <td>The Walking Dead: Season Two</td>\n",
       "      <td>$14.99</td>\n",
       "      <td>8.45</td>\n",
       "      <td>27,208 votes</td>\n",
       "      <td>Zombies</td>\n",
       "    </tr>\n",
       "    <tr>\n",
       "      <th>8</th>\n",
       "      <td>2013</td>\n",
       "      <td>Game Dev Tycoon</td>\n",
       "      <td>$9.99</td>\n",
       "      <td>8.43</td>\n",
       "      <td>40,097 votes</td>\n",
       "      <td>Management</td>\n",
       "    </tr>\n",
       "    <tr>\n",
       "      <th>9</th>\n",
       "      <td>2013</td>\n",
       "      <td>BioShock Infinite</td>\n",
       "      <td>$7.49</td>\n",
       "      <td>8.39</td>\n",
       "      <td>131,346 votes</td>\n",
       "      <td>FPS</td>\n",
       "    </tr>\n",
       "  </tbody>\n",
       "</table>\n",
       "</div>"
      ],
      "text/plain": [
       "  Year of Release                    Game Title Game Price Score  \\\n",
       "0            2013                   Tomb Raider     $14.99  8.61   \n",
       "1            2013                  Don't Starve      $9.99  8.60   \n",
       "2            2013                Papers, Please      $9.99  8.58   \n",
       "3            2013             The Wolf Among Us     $14.99  8.58   \n",
       "4            2013                       Outlast     $19.99  8.57   \n",
       "5            2013      Age of Empires II (2013)     $19.99  8.51   \n",
       "6            2013                      Gunpoint      $9.99  8.48   \n",
       "7            2013  The Walking Dead: Season Two     $14.99  8.45   \n",
       "8            2013               Game Dev Tycoon      $9.99  8.43   \n",
       "9            2013             BioShock Infinite      $7.49  8.39   \n",
       "\n",
       "           Votes       Genre  \n",
       "0  221,116 votes   Adventure  \n",
       "1  101,024 votes    Survival  \n",
       "2   59,242 votes   Political  \n",
       "3   30,144 votes   Adventure  \n",
       "4  100,083 votes      Horror  \n",
       "5   97,058 votes    Strategy  \n",
       "6   12,329 votes     Stealth  \n",
       "7   27,208 votes     Zombies  \n",
       "8   40,097 votes  Management  \n",
       "9  131,346 votes         FPS  "
      ]
     },
     "execution_count": 5,
     "metadata": {},
     "output_type": "execute_result"
    }
   ],
   "source": [
    "df.head(10)"
   ]
  },
  {
   "attachments": {},
   "cell_type": "markdown",
   "metadata": {},
   "source": [
    "## Cleaning the Data"
   ]
  },
  {
   "cell_type": "code",
   "execution_count": 6,
   "metadata": {},
   "outputs": [
    {
     "data": {
      "text/plain": [
       "(1500, 6)"
      ]
     },
     "execution_count": 6,
     "metadata": {},
     "output_type": "execute_result"
    }
   ],
   "source": [
    "df.shape"
   ]
  },
  {
   "cell_type": "code",
   "execution_count": 7,
   "metadata": {},
   "outputs": [
    {
     "data": {
      "text/plain": [
       "Year of Release    object\n",
       "Game Title         object\n",
       "Game Price         object\n",
       "Score              object\n",
       "Votes              object\n",
       "Genre              object\n",
       "dtype: object"
      ]
     },
     "execution_count": 7,
     "metadata": {},
     "output_type": "execute_result"
    }
   ],
   "source": [
    "df.dtypes"
   ]
  },
  {
   "cell_type": "code",
   "execution_count": 8,
   "metadata": {},
   "outputs": [
    {
     "data": {
      "text/plain": [
       "Year of Release    0\n",
       "Game Title         0\n",
       "Game Price         0\n",
       "Score              0\n",
       "Votes              0\n",
       "Genre              0\n",
       "dtype: int64"
      ]
     },
     "execution_count": 8,
     "metadata": {},
     "output_type": "execute_result"
    }
   ],
   "source": [
    "# thank goodness\n",
    "df.isnull().sum()"
   ]
  },
  {
   "cell_type": "code",
   "execution_count": 9,
   "metadata": {},
   "outputs": [],
   "source": [
    "df[[\"Votes\", \"year\"]] = df[\"Votes\"].str.split(' ', expand=True)"
   ]
  },
  {
   "cell_type": "code",
   "execution_count": 10,
   "metadata": {},
   "outputs": [],
   "source": [
    "#df.head(2)"
   ]
  },
  {
   "cell_type": "code",
   "execution_count": 11,
   "metadata": {},
   "outputs": [],
   "source": [
    "df.drop(['year'], axis=1, inplace=True)"
   ]
  },
  {
   "cell_type": "code",
   "execution_count": 12,
   "metadata": {},
   "outputs": [
    {
     "data": {
      "text/html": [
       "<div>\n",
       "<style scoped>\n",
       "    .dataframe tbody tr th:only-of-type {\n",
       "        vertical-align: middle;\n",
       "    }\n",
       "\n",
       "    .dataframe tbody tr th {\n",
       "        vertical-align: top;\n",
       "    }\n",
       "\n",
       "    .dataframe thead th {\n",
       "        text-align: right;\n",
       "    }\n",
       "</style>\n",
       "<table border=\"1\" class=\"dataframe\">\n",
       "  <thead>\n",
       "    <tr style=\"text-align: right;\">\n",
       "      <th></th>\n",
       "      <th>Year of Release</th>\n",
       "      <th>Game Title</th>\n",
       "      <th>Game Price</th>\n",
       "      <th>Score</th>\n",
       "      <th>Votes</th>\n",
       "      <th>Genre</th>\n",
       "    </tr>\n",
       "  </thead>\n",
       "  <tbody>\n",
       "    <tr>\n",
       "      <th>0</th>\n",
       "      <td>2013</td>\n",
       "      <td>Tomb Raider</td>\n",
       "      <td>$14.99</td>\n",
       "      <td>8.61</td>\n",
       "      <td>221,116</td>\n",
       "      <td>Adventure</td>\n",
       "    </tr>\n",
       "    <tr>\n",
       "      <th>1</th>\n",
       "      <td>2013</td>\n",
       "      <td>Don't Starve</td>\n",
       "      <td>$9.99</td>\n",
       "      <td>8.60</td>\n",
       "      <td>101,024</td>\n",
       "      <td>Survival</td>\n",
       "    </tr>\n",
       "  </tbody>\n",
       "</table>\n",
       "</div>"
      ],
      "text/plain": [
       "  Year of Release    Game Title Game Price Score    Votes      Genre\n",
       "0            2013   Tomb Raider     $14.99  8.61  221,116  Adventure\n",
       "1            2013  Don't Starve      $9.99  8.60  101,024   Survival"
      ]
     },
     "execution_count": 12,
     "metadata": {},
     "output_type": "execute_result"
    }
   ],
   "source": [
    "df.head(2)"
   ]
  },
  {
   "cell_type": "code",
   "execution_count": 13,
   "metadata": {},
   "outputs": [
    {
     "name": "stderr",
     "output_type": "stream",
     "text": [
      "C:\\Users\\mitch\\AppData\\Local\\Temp\\ipykernel_27448\\1601834454.py:2: FutureWarning: The default value of regex will change from True to False in a future version. In addition, single character regular expressions will *not* be treated as literal strings when regex=True.\n",
      "  df[\"Game Price\"] = df[\"Game Price\"].str.replace('$', '')\n"
     ]
    }
   ],
   "source": [
    "df[\"Votes\"] = df[\"Votes\"].str.replace(',', '')\n",
    "df[\"Game Price\"] = df[\"Game Price\"].str.replace('$', '')"
   ]
  },
  {
   "cell_type": "code",
   "execution_count": 14,
   "metadata": {},
   "outputs": [
    {
     "data": {
      "text/html": [
       "<div>\n",
       "<style scoped>\n",
       "    .dataframe tbody tr th:only-of-type {\n",
       "        vertical-align: middle;\n",
       "    }\n",
       "\n",
       "    .dataframe tbody tr th {\n",
       "        vertical-align: top;\n",
       "    }\n",
       "\n",
       "    .dataframe thead th {\n",
       "        text-align: right;\n",
       "    }\n",
       "</style>\n",
       "<table border=\"1\" class=\"dataframe\">\n",
       "  <thead>\n",
       "    <tr style=\"text-align: right;\">\n",
       "      <th></th>\n",
       "      <th>Year of Release</th>\n",
       "      <th>Game Title</th>\n",
       "      <th>Game Price</th>\n",
       "      <th>Score</th>\n",
       "      <th>Votes</th>\n",
       "      <th>Genre</th>\n",
       "    </tr>\n",
       "  </thead>\n",
       "  <tbody>\n",
       "    <tr>\n",
       "      <th>0</th>\n",
       "      <td>2013</td>\n",
       "      <td>Tomb Raider</td>\n",
       "      <td>14.99</td>\n",
       "      <td>8.61</td>\n",
       "      <td>221116</td>\n",
       "      <td>Adventure</td>\n",
       "    </tr>\n",
       "    <tr>\n",
       "      <th>1</th>\n",
       "      <td>2013</td>\n",
       "      <td>Don't Starve</td>\n",
       "      <td>9.99</td>\n",
       "      <td>8.60</td>\n",
       "      <td>101024</td>\n",
       "      <td>Survival</td>\n",
       "    </tr>\n",
       "  </tbody>\n",
       "</table>\n",
       "</div>"
      ],
      "text/plain": [
       "  Year of Release    Game Title Game Price Score   Votes      Genre\n",
       "0            2013   Tomb Raider      14.99  8.61  221116  Adventure\n",
       "1            2013  Don't Starve       9.99  8.60  101024   Survival"
      ]
     },
     "execution_count": 14,
     "metadata": {},
     "output_type": "execute_result"
    }
   ],
   "source": [
    "# not sure what that warning above means but it works\n",
    "\n",
    "df.head(2)"
   ]
  },
  {
   "cell_type": "code",
   "execution_count": 15,
   "metadata": {},
   "outputs": [],
   "source": [
    "# df.dtypes\n"
   ]
  },
  {
   "cell_type": "code",
   "execution_count": 16,
   "metadata": {},
   "outputs": [],
   "source": [
    "df[\"Score\"] = df[\"Score\"].astype('float64')\n",
    "df[\"Votes\"] = df[\"Votes\"].astype('int64')"
   ]
  },
  {
   "cell_type": "code",
   "execution_count": 17,
   "metadata": {},
   "outputs": [
    {
     "name": "stderr",
     "output_type": "stream",
     "text": [
      "C:\\Users\\mitch\\AppData\\Local\\Temp\\ipykernel_27448\\2853826804.py:6: SettingWithCopyWarning: \n",
      "A value is trying to be set on a copy of a slice from a DataFrame\n",
      "\n",
      "See the caveats in the documentation: https://pandas.pydata.org/pandas-docs/stable/user_guide/indexing.html#returning-a-view-versus-a-copy\n",
      "  df[\"Game Price\"][i] = \"0.00\"\n"
     ]
    }
   ],
   "source": [
    "# df[\"Game Price\"] = df[\"Game Price\"].astype('float64')\n",
    "for i in range(1500):\n",
    "    if df[\"Game Price\"][i] == \"free\":\n",
    "        df[\"Game Price\"][i] = \"0.00\"\n",
    "    elif df[\"Game Price\"][i] == \"Free\":\n",
    "        df[\"Game Price\"][i] = \"0.00\""
   ]
  },
  {
   "cell_type": "code",
   "execution_count": 18,
   "metadata": {},
   "outputs": [],
   "source": [
    "df[\"Game Price\"] = df[\"Game Price\"].astype('float64')"
   ]
  },
  {
   "cell_type": "code",
   "execution_count": 19,
   "metadata": {},
   "outputs": [],
   "source": [
    "df[\"Game Title\"] = df[\"Game Title\"].astype('string')\n",
    "df[\"Genre\"] = df[\"Genre\"].astype('string')\n",
    "df[\"Year of Release\"] = df[\"Year of Release\"].astype('int64')"
   ]
  },
  {
   "cell_type": "code",
   "execution_count": 20,
   "metadata": {},
   "outputs": [
    {
     "data": {
      "text/plain": [
       "Year of Release      int64\n",
       "Game Title          string\n",
       "Game Price         float64\n",
       "Score              float64\n",
       "Votes                int64\n",
       "Genre               string\n",
       "dtype: object"
      ]
     },
     "execution_count": 20,
     "metadata": {},
     "output_type": "execute_result"
    }
   ],
   "source": [
    "df.dtypes"
   ]
  },
  {
   "cell_type": "code",
   "execution_count": 21,
   "metadata": {},
   "outputs": [
    {
     "data": {
      "text/html": [
       "<div>\n",
       "<style scoped>\n",
       "    .dataframe tbody tr th:only-of-type {\n",
       "        vertical-align: middle;\n",
       "    }\n",
       "\n",
       "    .dataframe tbody tr th {\n",
       "        vertical-align: top;\n",
       "    }\n",
       "\n",
       "    .dataframe thead th {\n",
       "        text-align: right;\n",
       "    }\n",
       "</style>\n",
       "<table border=\"1\" class=\"dataframe\">\n",
       "  <thead>\n",
       "    <tr style=\"text-align: right;\">\n",
       "      <th></th>\n",
       "      <th>Year of Release</th>\n",
       "      <th>Game Title</th>\n",
       "      <th>Game Price</th>\n",
       "      <th>Score</th>\n",
       "      <th>Votes</th>\n",
       "      <th>Genre</th>\n",
       "    </tr>\n",
       "  </thead>\n",
       "  <tbody>\n",
       "    <tr>\n",
       "      <th>0</th>\n",
       "      <td>2013</td>\n",
       "      <td>Tomb Raider</td>\n",
       "      <td>14.99</td>\n",
       "      <td>8.61</td>\n",
       "      <td>221116</td>\n",
       "      <td>Adventure</td>\n",
       "    </tr>\n",
       "    <tr>\n",
       "      <th>1</th>\n",
       "      <td>2013</td>\n",
       "      <td>Don't Starve</td>\n",
       "      <td>9.99</td>\n",
       "      <td>8.60</td>\n",
       "      <td>101024</td>\n",
       "      <td>Survival</td>\n",
       "    </tr>\n",
       "    <tr>\n",
       "      <th>2</th>\n",
       "      <td>2013</td>\n",
       "      <td>Papers, Please</td>\n",
       "      <td>9.99</td>\n",
       "      <td>8.58</td>\n",
       "      <td>59242</td>\n",
       "      <td>Political</td>\n",
       "    </tr>\n",
       "    <tr>\n",
       "      <th>3</th>\n",
       "      <td>2013</td>\n",
       "      <td>The Wolf Among Us</td>\n",
       "      <td>14.99</td>\n",
       "      <td>8.58</td>\n",
       "      <td>30144</td>\n",
       "      <td>Adventure</td>\n",
       "    </tr>\n",
       "    <tr>\n",
       "      <th>4</th>\n",
       "      <td>2013</td>\n",
       "      <td>Outlast</td>\n",
       "      <td>19.99</td>\n",
       "      <td>8.57</td>\n",
       "      <td>100083</td>\n",
       "      <td>Horror</td>\n",
       "    </tr>\n",
       "  </tbody>\n",
       "</table>\n",
       "</div>"
      ],
      "text/plain": [
       "   Year of Release         Game Title  Game Price  Score   Votes      Genre\n",
       "0             2013        Tomb Raider       14.99   8.61  221116  Adventure\n",
       "1             2013       Don't Starve        9.99   8.60  101024   Survival\n",
       "2             2013     Papers, Please        9.99   8.58   59242  Political\n",
       "3             2013  The Wolf Among Us       14.99   8.58   30144  Adventure\n",
       "4             2013            Outlast       19.99   8.57  100083     Horror"
      ]
     },
     "execution_count": 21,
     "metadata": {},
     "output_type": "execute_result"
    }
   ],
   "source": [
    "df.head()"
   ]
  },
  {
   "cell_type": "code",
   "execution_count": 22,
   "metadata": {},
   "outputs": [
    {
     "data": {
      "text/plain": [
       "Year of Release      10\n",
       "Game Title         1500\n",
       "Game Price           74\n",
       "Score               128\n",
       "Votes              1434\n",
       "Genre               206\n",
       "dtype: int64"
      ]
     },
     "execution_count": 22,
     "metadata": {},
     "output_type": "execute_result"
    }
   ],
   "source": [
    "# there are way too many different genres to analyze\n",
    "# must condense\n",
    "df.nunique()"
   ]
  },
  {
   "cell_type": "code",
   "execution_count": 46,
   "metadata": {},
   "outputs": [
    {
     "name": "stdout",
     "output_type": "stream",
     "text": [
      "<class 'pandas.core.series.Series'> \n",
      "\n",
      "Adventure               112\n",
      "Action                   96\n",
      "Visual Novel             76\n",
      "Casual                   75\n",
      "Puzzle                   75\n",
      "RPG                      61\n",
      "Horror                   52\n",
      "Dating Sim               44\n",
      "Strategy                 40\n",
      "Simulation               39\n",
      "Anime                    36\n",
      "Story Rich               33\n",
      "FPS                      28\n",
      "Action Roguelike         24\n",
      "Platformer               20\n",
      "Psychological Horror     18\n",
      "Bullet Hell              18\n",
      "Pixel Graphics           18\n",
      "Fighting                 17\n",
      "Funny                    17\n",
      "Name: Genre, dtype: Int64\n"
     ]
    }
   ],
   "source": [
    "# find most repeated genres\n",
    "item_counts = df[\"Genre\"].value_counts()\n",
    "\n",
    "print(type(item_counts), '\\n')\n",
    "print(item_counts[:20])\n"
   ]
  },
  {
   "cell_type": "code",
   "execution_count": 24,
   "metadata": {},
   "outputs": [],
   "source": [
    "# my pick for top 10 is:\n",
    "    # action/adventure, puzzle, rpg, casual, artistic, platformer, horror, strategy, simulation, fps\n",
    "    # however, due to time constrants, I'm going to leave them as is and hope nothing bad happens\n",
    "    # I will only change the potentially iffy ones\n",
    "\n",
    "for i in range(1500):\n",
    "    if (df[\"Genre\"][i] in {\"Sexual Content\"}):\n",
    "        df[\"Genre\"][i] = \"Dating Sim\"\n",
    "    if (df[\"Genre\"][i] in {\"Hentai\"}):\n",
    "        df[\"Genre\"][i] = \"Anime\"\n",
    "    if (df[\"Genre\"][i] in {\"LGBTQ+\"}):\n",
    "        df[\"Genre\"][i] = \"Story Rich\"   "
   ]
  },
  {
   "cell_type": "code",
   "execution_count": 26,
   "metadata": {},
   "outputs": [],
   "source": [
    "df.to_csv(\"games_dataset_cleaned.csv\")"
   ]
  },
  {
   "attachments": {},
   "cell_type": "markdown",
   "metadata": {},
   "source": [
    "## Data Visualizations\n",
    "\n",
    "### What to make: \n",
    "* bar chart of (top 10-20) genres and avg votes / avg score, does one genre do better than others?\n",
    "\n"
   ]
  },
  {
   "cell_type": "code",
   "execution_count": 38,
   "metadata": {},
   "outputs": [
    {
     "data": {
      "image/png": "[encoded data removed]",
      "text/plain": [
       "<Figure size 640x480 with 1 Axes>"
      ]
     },
     "metadata": {},
     "output_type": "display_data"
    }
   ],
   "source": [
    "# Group data by year and calculate average votes\n",
    "grouped_data = df.groupby('Year of Release')['Score'].mean()\n",
    "\n",
    "# Create a bar chart\n",
    "plt.bar(grouped_data.index, grouped_data.values)\n",
    "\n",
    "# Set chart title and axis labels\n",
    "plt.title('Average Score by Year')\n",
    "plt.xlabel('Year')\n",
    "plt.ylabel('Average Score')\n",
    "\n",
    "plt.xticks(grouped_data.index)\n",
    "plt.ylim(7, 9)\n",
    "\n",
    "# Show the chart\n",
    "plt.show()\n",
    "\n",
    "# include Whiskers too for cool effect"
   ]
  },
  {
   "cell_type": "code",
   "execution_count": 103,
   "metadata": {},
   "outputs": [
    {
     "data": {
      "image/png": "[encoded data removed]",
      "text/plain": [
       "<Figure size 640x480 with 2 Axes>"
      ]
     },
     "metadata": {},
     "output_type": "display_data"
    }
   ],
   "source": [
    "# Create a scatter plot with a linear regression line\n",
    "plt.hist2d(df[\"Game Price\"], df[\"Score\"], bins=20, cmap=\"magma\", range=[[0, 60], [7, 9]])\n",
    "\n",
    "# Set chart title and axis labels\n",
    "plt.title('2D Histogram of Price vs Score')\n",
    "plt.xlabel('Price (USD)')\n",
    "plt.ylabel('Score')\n",
    "\n",
    "plt.colorbar()\n",
    "\n",
    "# Show the chart\n",
    "plt.show()"
   ]
  },
  {
   "cell_type": "code",
   "execution_count": 101,
   "metadata": {},
   "outputs": [
    {
     "data": {
      "image/png": "[encoded data removed]",
      "text/plain": [
       "<Figure size 640x480 with 2 Axes>"
      ]
     },
     "metadata": {},
     "output_type": "display_data"
    }
   ],
   "source": [
    "# Create a scatter plot with a linear regression line\n",
    "plt.hist2d(df[\"Votes\"], df[\"Score\"], bins=30, cmap=\"coolwarm\", range=[[0, 30000], [7, 9]])\n",
    "\n",
    "# Set chart title and axis labels\n",
    "plt.title('2D Histogram of Votes vs Score')\n",
    "plt.xlabel('Votes')\n",
    "plt.ylabel('Score')\n",
    "\n",
    "\n",
    "plt.colorbar()\n",
    "\n",
    "# Show the chart\n",
    "plt.show()"
   ]
  },
  {
   "cell_type": "code",
   "execution_count": null,
   "metadata": {},
   "outputs": [],
   "source": [
    "# Genre Stuff not working\n",
    "\n",
    "# dct = dict()\n",
    "\n",
    "# # for i in range(20):\n",
    "\n",
    "# for i in range(1500):\n",
    "#     if df[\"Genre\"][i] in {\"Adventure\", \"Action\", \"Visual Novel\", \"Casual\", \"Puzzle\", \"RPG\", \"Horror\", \"Dating Sim\", \"Strategy\", \"Simulation\", \"Anime\", \"Story Rich\", \"FPS\", \"Action Roguelike\", \"Platformer\", \"Psychological Horror\", \"Bullet Hell\", \"Pixel Graphics\", \"Fighting\", \"Funny\"}:\n",
    "#         dct[df[\"Genre\"][i]] = df[\"Score\"][i]\n",
    "\n",
    "# # Group data by year and calculate average votes\n",
    "# gdata2 = df.groupby('Genre')['Score'].mean()\n",
    "\n",
    "# # Create a bar chart\n",
    "# plt.hist(dct.values, bins=10)\n",
    "\n",
    "# # Set chart title and axis labels\n",
    "# plt.title('Average Score by Top 10 Genres')\n",
    "# plt.xlabel('Genres')\n",
    "# plt.ylabel('Average Score')\n",
    "\n",
    "# # Show the chart\n",
    "# plt.show()"
   ]
  }
 ],
 "metadata": {
  "kernelspec": {
   "display_name": "base",
   "language": "python",
   "name": "python3"
  },
  "language_info": {
   "codemirror_mode": {
    "name": "ipython",
    "version": 3
   },
   "file_extension": ".py",
   "mimetype": "text/x-python",
   "name": "python",
   "nbconvert_exporter": "python",
   "pygments_lexer": "ipython3",
   "version": "3.9.13"
  },
  "orig_nbformat": 4
 },
 "nbformat": 4,
 "nbformat_minor": 2
}
